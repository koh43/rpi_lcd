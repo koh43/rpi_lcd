{
 "cells": [
  {
   "cell_type": "code",
   "execution_count": 1,
   "metadata": {},
   "outputs": [],
   "source": [
    "import time\n",
    "import logging\n",
    "import spidev as SPI\n",
    "from glob import glob\n",
    "import cv2\n",
    "from PIL import Image\n",
    "\n",
    "import sys\n",
    "sys.path.append(\"..\")\n",
    "from lcd import LCD_2inch_h"
   ]
  },
  {
   "cell_type": "code",
   "execution_count": 2,
   "metadata": {},
   "outputs": [],
   "source": [
    "# Raspberry Pi pin configuration:\n",
    "RST = 13\n",
    "DC = 22\n",
    "BL = 12\n",
    "bus = 0\n",
    "device = 0\n",
    "logging.basicConfig(level=logging.DEBUG)"
   ]
  },
  {
   "cell_type": "code",
   "execution_count": 3,
   "metadata": {},
   "outputs": [
    {
     "name": "stderr",
     "output_type": "stream",
     "text": [
      "/home/koh/pyvenvs/lcd/lib/python3.11/site-packages/gpiozero/devices.py:300: PinFactoryFallback: Falling back from lgpio: No module named 'lgpio'\n",
      "  warnings.warn(\n"
     ]
    }
   ],
   "source": [
    "# display with hardware SPI:\n",
    "''' Warning!!!Don't  creation of multiple displayer objects!!! '''\n",
    "# disp = LCD_2inch_h.LCD_2inch_h(\n",
    "#     rst=RST,\n",
    "#     dc=DC,\n",
    "#     bl=BL\n",
    "# )\n",
    "disp = LCD_2inch_h.LCD_2inch_h()\n",
    "# Initialize library.\n",
    "disp.Init()\n",
    "# Clear display.\n",
    "disp.clear()\n",
    "#Set the backlight to 100\n",
    "disp.bl_DutyCycle(50)"
   ]
  },
  {
   "cell_type": "code",
   "execution_count": 4,
   "metadata": {},
   "outputs": [
    {
     "data": {
      "text/plain": [
       "['../pics/xmas/1.jpg',\n",
       " '../pics/xmas/2.jpg',\n",
       " '../pics/xmas/3.jpg',\n",
       " '../pics/xmas/4.jpg',\n",
       " '../pics/xmas/5.jpg']"
      ]
     },
     "execution_count": 4,
     "metadata": {},
     "output_type": "execute_result"
    }
   ],
   "source": [
    "# load image paths\n",
    "img_paths = glob(\"../pics/xmas/*.jpg\")\n",
    "img_paths.sort()\n",
    "img_paths"
   ]
  },
  {
   "cell_type": "code",
   "execution_count": 5,
   "metadata": {},
   "outputs": [],
   "source": [
    "for img_path in img_paths:\n",
    "    img = cv2.imread(img_path)\n",
    "    # img = cv2.rotate(img, cv2.ROTATE_90_CLOCKWISE)\n",
    "    img = cv2.resize(img, (disp.height, disp.width))\n",
    "    img = cv2.cvtColor(img, cv2.COLOR_BGR2RGB)\n",
    "    disp.ShowImageCV(img)\n",
    "    \n",
    "    # img = Image.open(img_path)\n",
    "    # img = img.rotate(90)\n",
    "    # img = img.resize((disp.width, disp.height))\n",
    "    # disp.ShowImage(img)\n",
    "    time.sleep(5)"
   ]
  },
  {
   "cell_type": "code",
   "execution_count": 8,
   "metadata": {},
   "outputs": [],
   "source": [
    "# for i, img_path in enumerate(img_paths):\n",
    "#     img = cv2.imread(img_path)\n",
    "#     img = img[:,:,::-1]\n",
    "#     img = cv2.rotate(img, cv2.ROTATE_90_CLOCKWISE)\n",
    "#     img = cv2.resize(img, (disp.width, disp.height))\n",
    "#     cv2.imwrite(f\"../pics_resized/{i+1}.jpg\", img)"
   ]
  },
  {
   "cell_type": "code",
   "execution_count": 8,
   "metadata": {},
   "outputs": [
    {
     "name": "stderr",
     "output_type": "stream",
     "text": [
      "DEBUG:root:spi end\n",
      "DEBUG:root:gpio cleanup...\n"
     ]
    }
   ],
   "source": [
    "disp.module_exit()"
   ]
  }
 ],
 "metadata": {
  "kernelspec": {
   "display_name": "lcd",
   "language": "python",
   "name": "python3"
  },
  "language_info": {
   "codemirror_mode": {
    "name": "ipython",
    "version": 3
   },
   "file_extension": ".py",
   "mimetype": "text/x-python",
   "name": "python",
   "nbconvert_exporter": "python",
   "pygments_lexer": "ipython3",
   "version": "3.11.2"
  }
 },
 "nbformat": 4,
 "nbformat_minor": 2
}
